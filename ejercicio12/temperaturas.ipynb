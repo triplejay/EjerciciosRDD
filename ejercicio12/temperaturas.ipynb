{
 "cells": [
  {
   "cell_type": "code",
   "execution_count": 5,
   "metadata": {},
   "outputs": [
    {
     "name": "stdout",
     "output_type": "stream",
     "text": [
      "Temperaturas mas bajas:\n",
      " [(2007, -3), (2008, -5), (2009, -15), (2010, -20), (2011, -12), (2012, -8)]\n"
     ]
    }
   ],
   "source": [
    "tem_baja = sc.parallelize([(2005,20),(2006,15),(2007,-3),(2008,-5),(2009,-15),(2010,-20),(2011,-12),(2012,-8)]).filter(lambda x: x[1] < 0).collect()\n",
    "print(\"Temperaturas mas bajas:\\n\",tem_baja)"
   ]
  },
  {
   "cell_type": "code",
   "execution_count": 7,
   "metadata": {},
   "outputs": [
    {
     "name": "stdout",
     "output_type": "stream",
     "text": [
      "3 Temperaturas mas bajas:\n",
      " [(2010, -20), (2009, -15), (2011, -12)]\n"
     ]
    }
   ],
   "source": [
    "tem_baja_cero = sc.parallelize([(2005,20),(2006,15),(2007,-3),(2008,-5),(2009,-15),(2010,-20),(2011,-12),(2012,-8)]).takeOrdered(3, key=lambda x: x[1])\n",
    "print(\"3 Temperaturas mas bajas:\\n\",tem_baja_cero)"
   ]
  },
  {
   "cell_type": "code",
   "execution_count": 8,
   "metadata": {},
   "outputs": [
    {
     "name": "stdout",
     "output_type": "stream",
     "text": [
      "3 Temperaturas mas altas bajo cero:\n",
      " [(2007, -3), (2008, -5), (2009, -15)]\n"
     ]
    }
   ],
   "source": [
    "tem_alta_cero = sc.parallelize([(2005,20),(2006,15),(2007,-3),(2008,-5),(2009,-15),(2010,-20),(2011,-12),(2012,-8)]).top(3, key=lambda x: x[1] < 0)\n",
    "print(\"3 Temperaturas mas altas bajo cero:\\n\",tem_alta_cero)"
   ]
  },
  {
   "cell_type": "code",
   "execution_count": null,
   "metadata": {},
   "outputs": [],
   "source": []
  }
 ],
 "metadata": {
  "kernelspec": {
   "display_name": "Python 3",
   "language": "python",
   "name": "python3"
  },
  "language_info": {
   "codemirror_mode": {
    "name": "ipython",
    "version": 3
   },
   "file_extension": ".py",
   "mimetype": "text/x-python",
   "name": "python",
   "nbconvert_exporter": "python",
   "pygments_lexer": "ipython3",
   "version": "3.7.1"
  }
 },
 "nbformat": 4,
 "nbformat_minor": 2
}
