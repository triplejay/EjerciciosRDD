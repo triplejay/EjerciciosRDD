{
 "cells": [
  {
   "cell_type": "code",
   "execution_count": 2,
   "metadata": {},
   "outputs": [
    {
     "name": "stdout",
     "output_type": "stream",
     "text": [
      "    Año  Temperatura\n",
      "0  2005           20\n",
      "1  2006           15\n",
      "2  2007           -3\n",
      "3  2008           -5\n",
      "4  2012           -8\n",
      "5  2011          -12\n",
      "6  2009          -15\n",
      "7  2010          -20\n"
     ]
    }
   ],
   "source": [
    "import pandas as pd\n",
    "temperatura = sc.parallelize([(2005,20),(2006,15),(2007,-3),(2008,-5),(2009,-15),(2010,-20),(2011,-12),(2012,-8)]).sortBy(lambda l: l[1], ascending=False).collect()\n",
    "df = pd.DataFrame(temperatura,columns=['Año','Temperatura'])\n",
    "print(df)"
   ]
  },
  {
   "cell_type": "code",
   "execution_count": 4,
   "metadata": {},
   "outputs": [
    {
     "data": {
      "text/plain": [
       "<matplotlib.axes._subplots.AxesSubplot at 0x7fcd595010b8>"
      ]
     },
     "execution_count": 4,
     "metadata": {},
     "output_type": "execute_result"
    },
    {
     "data": {
      "image/png": "[encoded data removed]",
      "text/plain": [
       "<Figure size 432x288 with 1 Axes>"
      ]
     },
     "metadata": {
      "needs_background": "light"
     },
     "output_type": "display_data"
    }
   ],
   "source": [
    "df.plot(kind='bar', x='Año', y='Temperatura')"
   ]
  },
  {
   "cell_type": "code",
   "execution_count": null,
   "metadata": {},
   "outputs": [],
   "source": []
  }
 ],
 "metadata": {
  "kernelspec": {
   "display_name": "Python 3",
   "language": "python",
   "name": "python3"
  },
  "language_info": {
   "codemirror_mode": {
    "name": "ipython",
    "version": 3
   },
   "file_extension": ".py",
   "mimetype": "text/x-python",
   "name": "python",
   "nbconvert_exporter": "python",
   "pygments_lexer": "ipython3",
   "version": "3.7.1"
  }
 },
 "nbformat": 4,
 "nbformat_minor": 2
}
