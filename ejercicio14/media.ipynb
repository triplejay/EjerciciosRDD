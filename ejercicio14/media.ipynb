{
 "cells": [
  {
   "cell_type": "code",
   "execution_count": 1,
   "metadata": {},
   "outputs": [
    {
     "name": "stdout",
     "output_type": "stream",
     "text": [
      "Media de las temperaturas de los siguientes paises:\n",
      "España 7.5\n",
      "Ecuador 7.5\n",
      "Alemania 16.5\n"
     ]
    }
   ],
   "source": [
    "temp_paises = sc.parallelize([(\"España\",20,-5),(\"Ecuador\",30,-15),(\"Alemania\",28,5)]).collect()\n",
    "a = 0\n",
    "b = 0\n",
    "print(\"Media de las temperaturas de los siguientes paises:\")\n",
    "for x in temp_paises:\n",
    "    a=x[1]+x[2]\n",
    "    print(x[0],a/2)"
   ]
  },
  {
   "cell_type": "code",
   "execution_count": null,
   "metadata": {},
   "outputs": [],
   "source": []
  }
 ],
 "metadata": {
  "kernelspec": {
   "display_name": "Python 3",
   "language": "python",
   "name": "python3"
  },
  "language_info": {
   "codemirror_mode": {
    "name": "ipython",
    "version": 3
   },
   "file_extension": ".py",
   "mimetype": "text/x-python",
   "name": "python",
   "nbconvert_exporter": "python",
   "pygments_lexer": "ipython3",
   "version": "3.7.1"
  }
 },
 "nbformat": 4,
 "nbformat_minor": 2
}
