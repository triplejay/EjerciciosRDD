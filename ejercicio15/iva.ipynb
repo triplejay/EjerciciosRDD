{
 "cells": [
  {
   "cell_type": "code",
   "execution_count": 2,
   "metadata": {},
   "outputs": [
    {
     "name": "stdout",
     "output_type": "stream",
     "text": [
      "Incremento de 2% de IVA [('España', 20.4), ('Portugal', 14.28), ('Ecuador', 10.2)]\n"
     ]
    }
   ],
   "source": [
    "incremento_iva = sc.parallelize([('España',20),('Portugal',14),('Ecuador',10)]).mapValues(lambda i: i+((i*2)/100)).collect()\n",
    "print(\"Incremento de 2% de IVA\", incremento_iva)"
   ]
  },
  {
   "cell_type": "code",
   "execution_count": null,
   "metadata": {},
   "outputs": [],
   "source": []
  }
 ],
 "metadata": {
  "kernelspec": {
   "display_name": "Python 3",
   "language": "python",
   "name": "python3"
  },
  "language_info": {
   "codemirror_mode": {
    "name": "ipython",
    "version": 3
   },
   "file_extension": ".py",
   "mimetype": "text/x-python",
   "name": "python",
   "nbconvert_exporter": "python",
   "pygments_lexer": "ipython3",
   "version": "3.7.1"
  }
 },
 "nbformat": 4,
 "nbformat_minor": 2
}
