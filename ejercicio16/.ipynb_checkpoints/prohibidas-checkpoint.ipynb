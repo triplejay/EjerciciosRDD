{
 "cells": [
  {
   "cell_type": "code",
   "execution_count": 2,
   "metadata": {},
   "outputs": [
    {
     "name": "stdout",
     "output_type": "stream",
     "text": [
      "[('Este', 1), ('fichero', 1), ('para', 1), ('el', 1), ('es', 1), ('un', 1), ('de', 1), ('hacer', 1), ('siguiente', 1)]\n"
     ]
    }
   ],
   "source": [
    "listaProhibida = (\"simple\", \"texto\", \"rdd\")\n",
    "fichero = sc.textFile('texto.txt').flatMap(lambda x: x.split(' ')).filter(lambda f: f not in listaProhibida).map(lambda k:(k,1)).reduceByKey(lambda p, n: p + n).collect()\n",
    "print(fichero)"
   ]
  },
  {
   "cell_type": "code",
   "execution_count": null,
   "metadata": {},
   "outputs": [],
   "source": []
  }
 ],
 "metadata": {
  "kernelspec": {
   "display_name": "Python 3",
   "language": "python",
   "name": "python3"
  },
  "language_info": {
   "codemirror_mode": {
    "name": "ipython",
    "version": 3
   },
   "file_extension": ".py",
   "mimetype": "text/x-python",
   "name": "python",
   "nbconvert_exporter": "python",
   "pygments_lexer": "ipython3",
   "version": "3.7.1"
  }
 },
 "nbformat": 4,
 "nbformat_minor": 2
}
