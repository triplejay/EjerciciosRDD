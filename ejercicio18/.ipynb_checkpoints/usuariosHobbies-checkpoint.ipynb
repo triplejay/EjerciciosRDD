{
 "cells": [
  {
   "cell_type": "code",
   "execution_count": 2,
   "metadata": {},
   "outputs": [
    {
     "data": {
      "text/plain": [
       "[(0, ('john', 'cine')), (1, ('manuel', None)), (2, ('roberto', 'futbol'))]"
      ]
     },
     "execution_count": 2,
     "metadata": {},
     "output_type": "execute_result"
    }
   ],
   "source": [
    "usuarios = sc.parallelize([(0,\"john\"),(1,\"manuel\"),(2,\"roberto\")])\n",
    "hobbies = sc.parallelize([(0,\"cine\"),(2,\"futbol\")])\n",
    "usuarios.fullOuterJoin(hobbies).collect()"
   ]
  },
  {
   "cell_type": "code",
   "execution_count": null,
   "metadata": {},
   "outputs": [],
   "source": []
  }
 ],
 "metadata": {
  "kernelspec": {
   "display_name": "Python 3",
   "language": "python",
   "name": "python3"
  },
  "language_info": {
   "codemirror_mode": {
    "name": "ipython",
    "version": 3
   },
   "file_extension": ".py",
   "mimetype": "text/x-python",
   "name": "python",
   "nbconvert_exporter": "python",
   "pygments_lexer": "ipython3",
   "version": "3.7.1"
  }
 },
 "nbformat": 4,
 "nbformat_minor": 2
}
