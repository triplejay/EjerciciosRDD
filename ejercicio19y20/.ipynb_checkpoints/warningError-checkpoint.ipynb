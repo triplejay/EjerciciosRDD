{
 "cells": [
  {
   "cell_type": "code",
   "execution_count": 1,
   "metadata": {},
   "outputs": [
    {
     "name": "stdout",
     "output_type": "stream",
     "text": [
      "[['Warning', ' No se puede establecer la función'], ['Warning', ' Intente de nuevo establecer la variable']] [['Error', ' Acceso denegado'], ['Error', ' No se encuentra el repositorio']]\n"
     ]
    }
   ],
   "source": [
    "war = sc.textFile(\"log.txt\").map(lambda s: s.split(\":\")).filter(lambda x: x[0]==\"Warning\").collect()\n",
    "err = sc.textFile(\"log.txt\").map(lambda s: s.split(\":\")).filter(lambda x: x[0]==\"Error\").collect()\n",
    "print(war,err)"
   ]
  },
  {
   "cell_type": "code",
   "execution_count": null,
   "metadata": {},
   "outputs": [],
   "source": []
  }
 ],
 "metadata": {
  "kernelspec": {
   "display_name": "Python 3",
   "language": "python",
   "name": "python3"
  },
  "language_info": {
   "codemirror_mode": {
    "name": "ipython",
    "version": 3
   },
   "file_extension": ".py",
   "mimetype": "text/x-python",
   "name": "python",
   "nbconvert_exporter": "python",
   "pygments_lexer": "ipython3",
   "version": "3.7.1"
  }
 },
 "nbformat": 4,
 "nbformat_minor": 2
}
