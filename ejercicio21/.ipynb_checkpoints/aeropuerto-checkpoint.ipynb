{
 "cells": [
  {
   "cell_type": "code",
   "execution_count": 1,
   "metadata": {},
   "outputs": [],
   "source": [
    "from pyspark.sql import Row"
   ]
  },
  {
   "cell_type": "code",
   "execution_count": 4,
   "metadata": {},
   "outputs": [],
   "source": [
    "aero = sc.textFile(\"aeropuertos.txt\").map(lambda line: line.split(\",\")).map(lambda x: Row(id=int(x[0]),nombre=x[1],ciudad=x[2],pais=x[3],latitud=int(x[4]),altitud=int(x[5]),longitud=int(x[6]),horario=x[7])).collect()\n",
    "df = sqlContext.createDataFrame(aero)\n",
    "sqlContext.registerDataFrameAsTable(df,\"datos\")\n",
    "df.registerTempTable(\"datos\")"
   ]
  },
  {
   "cell_type": "code",
   "execution_count": 7,
   "metadata": {},
   "outputs": [
    {
     "name": "stdout",
     "output_type": "stream",
     "text": [
      "+--------+------+\n",
      "|  nombre|ciudad|\n",
      "+--------+------+\n",
      "|Federico|   GRA|\n",
      "| Barajas|   MAD|\n",
      "+--------+------+\n",
      "\n"
     ]
    }
   ],
   "source": [
    "esp = sqlContext.sql(\"select nombre,ciudad from datos where pais='Espana'\")\n",
    "esp.show()\n",
    "esp.write.csv('espana.csv')"
   ]
  },
  {
   "cell_type": "code",
   "execution_count": 9,
   "metadata": {},
   "outputs": [
    {
     "name": "stdout",
     "output_type": "stream",
     "text": [
      "+--------+-------+\n",
      "|  nombre|latitud|\n",
      "+--------+-------+\n",
      "| Barajas|     41|\n",
      "|Mariscal|     55|\n",
      "|   Paris|     56|\n",
      "|  Narita|     75|\n",
      "+--------+-------+\n",
      "\n"
     ]
    }
   ],
   "source": [
    "lat = sqlContext.sql(\"select nombre,latitud from datos where latitud>40\")\n",
    "lat.show()\n",
    "lat.write.csv('latitud.csv')"
   ]
  },
  {
   "cell_type": "code",
   "execution_count": null,
   "metadata": {},
   "outputs": [],
   "source": []
  }
 ],
 "metadata": {
  "kernelspec": {
   "display_name": "Python 3",
   "language": "python",
   "name": "python3"
  },
  "language_info": {
   "codemirror_mode": {
    "name": "ipython",
    "version": 3
   },
   "file_extension": ".py",
   "mimetype": "text/x-python",
   "name": "python",
   "nbconvert_exporter": "python",
   "pygments_lexer": "ipython3",
   "version": "3.7.1"
  }
 },
 "nbformat": 4,
 "nbformat_minor": 2
}
