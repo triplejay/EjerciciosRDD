{
 "cells": [
  {
   "cell_type": "code",
   "execution_count": 2,
   "metadata": {},
   "outputs": [],
   "source": [
    "from pyspark.sql import Row"
   ]
  },
  {
   "cell_type": "code",
   "execution_count": 4,
   "metadata": {},
   "outputs": [
    {
     "name": "stdout",
     "output_type": "stream",
     "text": [
      "+-----------+----+\n",
      "|NumMedallas|Edad|\n",
      "+-----------+----+\n",
      "|          3|  22|\n",
      "|          5|  25|\n",
      "|          3|  27|\n",
      "|          6|  18|\n",
      "|          2|  30|\n",
      "|          4|  23|\n",
      "+-----------+----+\n",
      "\n"
     ]
    }
   ],
   "source": [
    "olimpiadas = sc.textFile('medallas.txt').map(lambda x: x.split(',')).map(lambda x: Row(nombre=x[0],medallas=x[1],edad=int(x[2]))).collect()\n",
    "df = sqlContext.createDataFrame(olimpiadas)\n",
    "sqlContext.registerDataFrameAsTable(df,'premios')\n",
    "df.registerTempTable('premios')\n",
    "sqlContext.sql(\"Select count(medallas) as NumMedallas,Edad from premios group by edad\").show()"
   ]
  },
  {
   "cell_type": "code",
   "execution_count": 12,
   "metadata": {},
   "outputs": [
    {
     "name": "stdout",
     "output_type": "stream",
     "text": [
      "+-------+-------------+--------+\n",
      "| nombre|totalMedallas|medallas|\n",
      "+-------+-------------+--------+\n",
      "|Michael|            5|     Oro|\n",
      "|  Katie|            4|     Oro|\n",
      "|  Usain|            3|     Oro|\n",
      "| Simone|            3|     Oro|\n",
      "|Katinka|            2|     Oro|\n",
      "| Simone|            1|  Bronce|\n",
      "|  Jason|            1|  Bronce|\n",
      "|  Jason|            1|   Plata|\n",
      "|  Jason|            1|     Oro|\n",
      "|Michael|            1|   Plata|\n",
      "|  Katie|            1|   Plata|\n",
      "+-------+-------------+--------+\n",
      "\n"
     ]
    }
   ],
   "source": [
    "sqlContext.sql(\"Select nombre,count(medallas) as totalMedallas,medallas from premios group By nombre,medallas order By count(medallas) DESC\").show()"
   ]
  },
  {
   "cell_type": "code",
   "execution_count": null,
   "metadata": {},
   "outputs": [],
   "source": []
  }
 ],
 "metadata": {
  "kernelspec": {
   "display_name": "Python 3",
   "language": "python",
   "name": "python3"
  },
  "language_info": {
   "codemirror_mode": {
    "name": "ipython",
    "version": 3
   },
   "file_extension": ".py",
   "mimetype": "text/x-python",
   "name": "python",
   "nbconvert_exporter": "python",
   "pygments_lexer": "ipython3",
   "version": "3.7.1"
  }
 },
 "nbformat": 4,
 "nbformat_minor": 2
}
