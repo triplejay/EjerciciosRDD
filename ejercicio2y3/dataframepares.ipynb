{
 "cells": [
  {
   "cell_type": "code",
   "execution_count": 10,
   "metadata": {},
   "outputs": [],
   "source": [
    "import pandas as pd\n",
    "rddlista = sc.parallelize(([1,2,3,4,5,6,7,8,9,10])).map(lambda x: (x*x*x)).collect()"
   ]
  },
  {
   "cell_type": "code",
   "execution_count": 15,
   "metadata": {},
   "outputs": [
    {
     "name": "stdout",
     "output_type": "stream",
     "text": [
      "   Numbers\n",
      "0        1\n",
      "1        8\n",
      "2       27\n",
      "3       64\n",
      "4      125\n",
      "5      216\n",
      "6      343\n",
      "7      512\n",
      "8      729\n",
      "9     1000\n"
     ]
    }
   ],
   "source": [
    "df = pd.DataFrame(rddlista, columns=['Numbers'])\n",
    "print(df)"
   ]
  },
  {
   "cell_type": "code",
   "execution_count": 27,
   "metadata": {},
   "outputs": [
    {
     "name": "stdout",
     "output_type": "stream",
     "text": [
      "8 Es un numero par\n",
      "64 Es un numero par\n",
      "216 Es un numero par\n",
      "512 Es un numero par\n",
      "1000 Es un numero par\n"
     ]
    }
   ],
   "source": [
    "for i in rddlista:\n",
    "    if (i % 2==0):\n",
    "        print(i,\"Es un numero par\")"
   ]
  },
  {
   "cell_type": "code",
   "execution_count": null,
   "metadata": {},
   "outputs": [],
   "source": []
  }
 ],
 "metadata": {
  "kernelspec": {
   "display_name": "Python 3",
   "language": "python",
   "name": "python3"
  },
  "language_info": {
   "codemirror_mode": {
    "name": "ipython",
    "version": 3
   },
   "file_extension": ".py",
   "mimetype": "text/x-python",
   "name": "python",
   "nbconvert_exporter": "python",
   "pygments_lexer": "ipython3",
   "version": "3.7.1"
  }
 },
 "nbformat": 4,
 "nbformat_minor": 2
}
